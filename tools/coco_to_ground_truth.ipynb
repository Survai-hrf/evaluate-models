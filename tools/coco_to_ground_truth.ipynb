{
 "cells": [
  {
   "cell_type": "code",
   "execution_count": 1,
   "metadata": {},
   "outputs": [],
   "source": [
    "import json"
   ]
  },
  {
   "cell_type": "code",
   "execution_count": 2,
   "metadata": {},
   "outputs": [],
   "source": [
    "# path to coco json\n",
    "coco_path = 'MKlAEkuig_A_000540_000630_coco.json'"
   ]
  },
  {
   "cell_type": "code",
   "execution_count": 3,
   "metadata": {},
   "outputs": [],
   "source": [
    "# open json\n",
    "with open(coco_path) as file:\n",
    "    coco_data = json.load(file)"
   ]
  },
  {
   "cell_type": "code",
   "execution_count": 4,
   "metadata": {},
   "outputs": [],
   "source": [
    "# convert category_ids to reflect survai's class list\n",
    "for annot in coco_data['annotations']:\n",
    "    if annot['category_id'] == 1:\n",
    "        annot['category_id'] = 5\n",
    "    if annot['category_id'] == 2:\n",
    "        annot['category_id'] = 6\n",
    "    if annot['category_id'] == 3:\n",
    "        annot['category_id'] = 2\n",
    "    if annot['category_id'] == 4:\n",
    "        annot['category_id'] = 3"
   ]
  },
  {
   "cell_type": "code",
   "execution_count": 5,
   "metadata": {},
   "outputs": [],
   "source": [
    "# convert from coco to format needed for ground_truth dataset\n",
    "predictions = []\n",
    "\n",
    "for annot in coco_data['annotations']:\n",
    "    predictions.append([\n",
    "        annot['image_id'] - 15860753,\n",
    "        annot['category_id'],\n",
    "        1,\n",
    "        int(annot['bbox'][0]),\n",
    "        int(annot['bbox'][1]),\n",
    "        int(annot['bbox'][0] + annot['bbox'][2]),\n",
    "        int(annot['bbox'][1] + annot['bbox'][3])\n",
    "    ])"
   ]
  },
  {
   "cell_type": "code",
   "execution_count": 6,
   "metadata": {},
   "outputs": [],
   "source": [
    "# export formatted json\n",
    "with open('MKlAEkuig_A_000540_000630.json', 'w+') as file:\n",
    "    json.dump(predictions, file)"
   ]
  }
 ],
 "metadata": {
  "kernelspec": {
   "display_name": "Python 3.9.13 ('dsbasic')",
   "language": "python",
   "name": "python3"
  },
  "language_info": {
   "codemirror_mode": {
    "name": "ipython",
    "version": 3
   },
   "file_extension": ".py",
   "mimetype": "text/x-python",
   "name": "python",
   "nbconvert_exporter": "python",
   "pygments_lexer": "ipython3",
   "version": "3.9.13"
  },
  "orig_nbformat": 4,
  "vscode": {
   "interpreter": {
    "hash": "ba6b70012bb1886e671e644fad58c5bb2ecea54d2fb7ca838b4cfe439afad372"
   }
  }
 },
 "nbformat": 4,
 "nbformat_minor": 2
}
