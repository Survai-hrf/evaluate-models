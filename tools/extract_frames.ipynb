{
 "cells": [
  {
   "cell_type": "code",
   "execution_count": 1,
   "metadata": {},
   "outputs": [],
   "source": [
    "import os\n",
    "import cv2"
   ]
  },
  {
   "cell_type": "code",
   "execution_count": null,
   "metadata": {},
   "outputs": [],
   "source": [
    "# provide path to video\n",
    "vid_path = 'videos/MKlAEkuig_A_540_630.mp4'"
   ]
  },
  {
   "cell_type": "code",
   "execution_count": null,
   "metadata": {},
   "outputs": [],
   "source": [
    "# create name for folder to store frames\n",
    "vid_name = vid_path.split('/')[1].split('.')[0]\n",
    "\n",
    "# read video frames\n",
    "vidcap = cv2.VideoCapture(vid_path)\n",
    "success,image = vidcap.read()\n",
    "\n",
    "# make directory for frames, using name of the video\n",
    "dir = os.mkdir(vid_name)\n",
    "\n",
    "count = 0\n",
    "while success:\n",
    "\n",
    "    # save frame as JPEG file to directory\n",
    "    file_name = str(count).zfill(6)\n",
    "    cv2.imwrite(f\"{vid_name}/{file_name}.jpg\", image)          \n",
    "    success,image = vidcap.read()\n",
    "    print('Read a new frame: ', success)\n",
    "    count += 1"
   ]
  }
 ],
 "metadata": {
  "kernelspec": {
   "display_name": "Python 3.9.13 ('dsbasic')",
   "language": "python",
   "name": "python3"
  },
  "language_info": {
   "codemirror_mode": {
    "name": "ipython",
    "version": 3
   },
   "file_extension": ".py",
   "mimetype": "text/x-python",
   "name": "python",
   "nbconvert_exporter": "python",
   "pygments_lexer": "ipython3",
   "version": "3.9.13"
  },
  "orig_nbformat": 4,
  "vscode": {
   "interpreter": {
    "hash": "ba6b70012bb1886e671e644fad58c5bb2ecea54d2fb7ca838b4cfe439afad372"
   }
  }
 },
 "nbformat": 4,
 "nbformat_minor": 2
}
